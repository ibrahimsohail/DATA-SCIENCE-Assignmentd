{
 "cells": [
  {
   "cell_type": "code",
   "execution_count": 4,
   "id": "d6226d3d",
   "metadata": {},
   "outputs": [
    {
     "name": "stdout",
     "output_type": "stream",
     "text": [
      "Twinkle, twinkle, little star,\n",
      "\tHow I wonder what you are!\n",
      "\t\tUp above the world so high,\n",
      "\t\tLike a diamond in the sky.\n",
      "Twinkle, twinkle, little star,\n",
      "\tHow I wonder what you are!\n"
     ]
    }
   ],
   "source": [
    "print(\"Twinkle, twinkle, little star,\\n\\tHow I wonder what you are!\\n\\t\\tUp above the world so high,\\n\\t\\tLike a diamond in the sky.\\nTwinkle, twinkle, little star,\\n\\tHow I wonder what you are!\")"
   ]
  },
  {
   "cell_type": "code",
   "execution_count": 8,
   "id": "820f6848",
   "metadata": {},
   "outputs": [
    {
     "name": "stdout",
     "output_type": "stream",
     "text": [
      "Your current Python Version is\n",
      "3.8.8 (default, Apr 13 2021, 15:08:03) [MSC v.1916 64 bit (AMD64)]\n",
      "Version Info\n",
      "sys.version_info(major=3, minor=8, micro=8, releaselevel='final', serial=0)\n"
     ]
    }
   ],
   "source": [
    "import sys\n",
    "print(\"Your current Python Version is\")\n",
    "print(sys.version)\n",
    "print(\"Version Info\")\n",
    "print(sys.version_info)"
   ]
  },
  {
   "cell_type": "code",
   "execution_count": 6,
   "id": "f1d0fe9f",
   "metadata": {},
   "outputs": [
    {
     "name": "stdout",
     "output_type": "stream",
     "text": [
      "Date Today is\n",
      "\t 29/12/21\n",
      "Time Now Is\n",
      "\t 21:58:43\n"
     ]
    }
   ],
   "source": [
    "import datetime\n",
    "dt_today = datetime.date.today()\n",
    "dt = dt_today.strftime(\"%d/%m/%y\")\n",
    "print(\"Date Today is\\n\\t\",dt)\n",
    "tm_now = datetime.datetime.now()\n",
    "tm = tm_now.strftime(\"%H:%M:%S\")\n",
    "print(\"Time Now Is\\n\\t\", tm)\n"
   ]
  },
  {
   "cell_type": "code",
   "execution_count": 5,
   "id": "060b3129",
   "metadata": {},
   "outputs": [
    {
     "name": "stdout",
     "output_type": "stream",
     "text": [
      "Enter The Radius Of Circle To Calculate The Area:4\n",
      "The Area Of The Of Given Radius Is: 50.256\n"
     ]
    }
   ],
   "source": [
    "rad = int(input(\"Enter The Radius Of Circle To Calculate The Area:\"))\n",
    "area = 3.141 * rad*rad\n",
    "print(\"The Area Of The Of Given Radius Is:\",area)"
   ]
  },
  {
   "cell_type": "code",
   "execution_count": 2,
   "id": "8e5869e6",
   "metadata": {},
   "outputs": [
    {
     "name": "stdout",
     "output_type": "stream",
     "text": [
      "Enter Your First Nameibrahim\n",
      "Enter your Last Namesohail\n",
      "sohail ibrahim\n"
     ]
    }
   ],
   "source": [
    "fn = input(\"Enter Your First Name\")\n",
    "ln = input(\"Enter your Last Name\")\n",
    "fl = ln + \" \" + fn\n",
    "print(fl)"
   ]
  },
  {
   "cell_type": "code",
   "execution_count": 3,
   "id": "a7f90bb3",
   "metadata": {},
   "outputs": [
    {
     "name": "stdout",
     "output_type": "stream",
     "text": [
      "Enter First Number8\n",
      "Enter Last Number9\n",
      "17\n"
     ]
    }
   ],
   "source": [
    "num1 = int(input(\"Enter First Number\"))\n",
    "num2 = int(input(\"Enter Last Number\"))\n",
    "ans = num1 + num2\n",
    "print(ans)"
   ]
  },
  {
   "cell_type": "code",
   "execution_count": null,
   "id": "ab05869c",
   "metadata": {},
   "outputs": [],
   "source": []
  }
 ],
 "metadata": {
  "kernelspec": {
   "display_name": "Python 3",
   "language": "python",
   "name": "python3"
  },
  "language_info": {
   "codemirror_mode": {
    "name": "ipython",
    "version": 3
   },
   "file_extension": ".py",
   "mimetype": "text/x-python",
   "name": "python",
   "nbconvert_exporter": "python",
   "pygments_lexer": "ipython3",
   "version": "3.8.8"
  }
 },
 "nbformat": 4,
 "nbformat_minor": 5
}
